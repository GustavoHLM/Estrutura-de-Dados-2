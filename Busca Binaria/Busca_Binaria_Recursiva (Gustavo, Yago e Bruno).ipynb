{
  "cells": [
    {
      "cell_type": "code",
      "execution_count": 34,
      "metadata": {
        "id": "kA2_U2tvIgCW"
      },
      "outputs": [],
      "source": [
        "import time"
      ]
    },
    {
      "cell_type": "code",
      "execution_count": 35,
      "metadata": {
        "id": "YCbcIacWIpbN"
      },
      "outputs": [],
      "source": [
        "# Busca Binária Recursiva\n",
        "\n",
        "def buscaBinariaRecursiva (array, numeroBuscado, inicio, fim):\n",
        "    meio = inicio + (fim - inicio)//2\n",
        "    if inicio > fim:\n",
        "        return -1\n",
        "    elif array[meio] == numeroBuscado:\n",
        "        return meio\n",
        "    elif array[meio] >  numeroBuscado:\n",
        "        return buscaBinariaRecursiva (array, numeroBuscado, inicio, meio-1)\n",
        "    else:\n",
        "        return buscaBinariaRecursiva (array, numeroBuscado, meio+1, fim)"
      ]
    },
    {
      "cell_type": "code",
      "execution_count": 36,
      "metadata": {
        "id": "GqWy3ElAX7j0"
      },
      "outputs": [],
      "source": [
        "# Busca Binária\n",
        "def buscaBinaria (array, numeroBuscado, inicio, fim):\n",
        "    while inicio<=fim:\n",
        "        meio = inicio + (fim - inicio)//2\n",
        "        if array[meio] == numeroBuscado:\n",
        "          return meio\n",
        "          break\n",
        "        elif array[meio] >  numeroBuscado:\n",
        "          fim = meio-1\n",
        "        else:\n",
        "          inicio = meio+1\n",
        "    return -1"
      ]
    },
    {
      "cell_type": "code",
      "execution_count": 37,
      "metadata": {
        "id": "RA3hJhj_LG7S"
      },
      "outputs": [],
      "source": [
        "def buscaSequencial(array, numeroBuscado):\n",
        "    for i in range(len(array)):\n",
        "        if(array[i] == numeroBuscado):\n",
        "            return i\n",
        "    return -1"
      ]
    },
    {
      "cell_type": "code",
      "execution_count": 38,
      "metadata": {
        "id": "iiQd8Hd9LG7S"
      },
      "outputs": [],
      "source": [
        "array = list(range(1, 100000000))\n",
        "tamanho = len(array)-1"
      ]
    },
    {
      "cell_type": "code",
      "execution_count": 39,
      "metadata": {
        "colab": {
          "base_uri": "https://localhost:8080/"
        },
        "id": "gEoD2dObPYPb",
        "outputId": "ee0fa2a4-655b-494c-d91a-9ec7053f082a"
      },
      "outputs": [
        {
          "output_type": "stream",
          "name": "stdout",
          "text": [
            "A função levou 0.00021910667419433594 segundos para ser executada.\n",
            "Número encontrado no índice: 57799999\n"
          ]
        }
      ],
      "source": [
        "inicio = time.time()\n",
        "indice = buscaBinariaRecursiva(array, 57800000, 0, tamanho)\n",
        "fim = time.time()\n",
        "print(f\"A função levou {fim - inicio} segundos para ser executada.\")\n",
        "if indice >=0:\n",
        "    print(\"Número encontrado no índice:\", indice)\n",
        "else:\n",
        "    print(\"Número não encontrado\")"
      ]
    },
    {
      "cell_type": "code",
      "execution_count": 40,
      "metadata": {
        "colab": {
          "base_uri": "https://localhost:8080/"
        },
        "id": "-KCJ26b3WN1T",
        "outputId": "56044fae-db8f-42ba-8fac-2d2b4fd406f9"
      },
      "outputs": [
        {
          "output_type": "stream",
          "name": "stdout",
          "text": [
            "A função levou 0.00013709068298339844 segundos para ser executada.\n",
            "Número encontrado no índice: 57799999\n"
          ]
        }
      ],
      "source": [
        "inicio = time.time()\n",
        "indice = buscaBinaria(array, 57800000, 0, tamanho)\n",
        "fim = time.time()\n",
        "print(f\"A função levou {fim - inicio} segundos para ser executada.\")\n",
        "if indice >=0:\n",
        "    print(\"Número encontrado no índice:\", indice)\n",
        "else:\n",
        "    print(\"Número não encontrado\")"
      ]
    },
    {
      "cell_type": "code",
      "execution_count": 41,
      "metadata": {
        "colab": {
          "base_uri": "https://localhost:8080/"
        },
        "id": "fcV2tly2LG7T",
        "outputId": "7b1a366d-7f0d-486e-b0dc-88b8306d244f"
      },
      "outputs": [
        {
          "output_type": "stream",
          "name": "stdout",
          "text": [
            "A função levou 4.155103921890259 segundos para ser executada.\n",
            "Número encontrado no índice: 57799999\n"
          ]
        }
      ],
      "source": [
        "inicio = time.time()\n",
        "indice = buscaSequencial(array, 57800000)\n",
        "fim = time.time()\n",
        "print(f\"A função levou {fim - inicio} segundos para ser executada.\")\n",
        "if indice >=0:\n",
        "    print(\"Número encontrado no índice:\", indice)\n",
        "else:\n",
        "    print(\"Número não encontrado\")"
      ]
    }
  ],
  "metadata": {
    "colab": {
      "provenance": []
    },
    "kernelspec": {
      "display_name": "Python 3",
      "name": "python3"
    },
    "language_info": {
      "codemirror_mode": {
        "name": "ipython",
        "version": 3
      },
      "file_extension": ".py",
      "mimetype": "text/x-python",
      "name": "python",
      "nbconvert_exporter": "python",
      "pygments_lexer": "ipython3",
      "version": "3.10.0"
    }
  },
  "nbformat": 4,
  "nbformat_minor": 0
}